{
 "cells": [
  {
   "cell_type": "code",
   "execution_count": null,
   "id": "608371e9-73d6-4435-9515-e8ba095bb7b1",
   "metadata": {},
   "outputs": [],
   "source": [
    "Q1. Which keyword is used to create a function? Create a function to return a list of odd numbers in the\n",
    "range of 1 to 25.\n",
    "\n",
    "Ans: The 'def' keyword is used to create a function in Python"
   ]
  },
  {
   "cell_type": "code",
   "execution_count": 6,
   "id": "8b31fb94-5e08-498a-add0-495bf7958879",
   "metadata": {},
   "outputs": [],
   "source": [
    "# Example of funtion to return a list of odd number in the range of 1 to 25 :\n",
    "\n",
    "def get_odd_numbers():\n",
    "    odd_numbers = []\n",
    "    for i in range(1,26):\n",
    "        if i%2 !=0:\n",
    "            odd_numbers.append(i)\n",
    "    return odd_numbers"
   ]
  },
  {
   "cell_type": "code",
   "execution_count": 8,
   "id": "315ad118-fa0a-489d-a5d8-bff508834af0",
   "metadata": {},
   "outputs": [
    {
     "name": "stdout",
     "output_type": "stream",
     "text": [
      "[1, 3, 5, 7, 9, 11, 13, 15, 17, 19, 21, 23, 25]\n"
     ]
    }
   ],
   "source": [
    "result = get_odd_numbers()\n",
    "print(result)"
   ]
  },
  {
   "cell_type": "code",
   "execution_count": null,
   "id": "19fc0582-1ec6-44e9-bed4-de945ffacf27",
   "metadata": {},
   "outputs": [],
   "source": [
    "Q2. Why *args and **kwargs is used in some functions? Create a function each for *args and **kwargs\n",
    "to demonstrate their use.\n",
    "\n",
    "Ans: *args and **kwargs are special syntax in Python that allows a function to accept an arbitrary number of arguments.\n",
    "**kwargs: Used to pass a variable number of keyword arguments to a function. When a function parameter is prefixed with two asterisks ('**'), \n",
    "it can accept any number of keyword arguments, which are passed to the function as a dictionary\n",
    "*args: *args allows to pass the desired number of arguments to the function."
   ]
  },
  {
   "cell_type": "code",
   "execution_count": 10,
   "id": "b15619b7-9bd5-4d52-b42e-62a6dbc4dc0a",
   "metadata": {},
   "outputs": [
    {
     "name": "stdout",
     "output_type": "stream",
     "text": [
      " I am a normal argument and the students are:\n",
      "Amit\n",
      "Rohan\n",
      "Suraj\n",
      "Surya\n",
      "Ajit\n",
      "Vikash\n"
     ]
    }
   ],
   "source": [
    "# Example of function using *args\n",
    "def funargs(normal, *args):\n",
    "    print(normal)\n",
    "    for item in args:\n",
    "        print(item)\n",
    "        \n",
    "ami = [\"Amit\", \"Rohan\", \"Suraj\", \"Surya\", \"Ajit\", \"Vikash\"]\n",
    "normal = \" I am a normal argument and the students are:\"\n",
    "funargs(normal, *ami)"
   ]
  },
  {
   "cell_type": "code",
   "execution_count": 21,
   "id": "93af1a71-7865-4b23-87d2-aa2011519449",
   "metadata": {},
   "outputs": [
    {
     "name": "stdout",
     "output_type": "stream",
     "text": [
      "name Amit\n",
      "age 25\n",
      "location India\n"
     ]
    }
   ],
   "source": [
    "# Example of function using **kwargs\n",
    "def my_function(**kwargs):\n",
    "    for key, value in kwargs.items():\n",
    "        print(key, value)\n",
    "\n",
    "my_function(name=\"Amit\", age=25, location=\"India\")\n"
   ]
  },
  {
   "cell_type": "code",
   "execution_count": null,
   "id": "bd8a6d0a-12cc-4b69-aad4-df712c3df565",
   "metadata": {},
   "outputs": [],
   "source": [
    "Q3. What is an iterator in python? Name the method used to initialise the iterator object and the method\n",
    "used for iteration. Use these methods to print the first five elements of the given list [2, 4, 6, 8, 10, 12, 14,\n",
    "16, 18, 20].\n",
    "\n",
    "Ans: An iterator is an object that contains a countable number of values.\n",
    "An iterator is an object that can be iterated upon, meaning that you can traverse through all the values.\n",
    "Technically, in Python, an iterator is an object which implements the iterator protocol, which consist of two methods __iter__() and __next__().\n",
    "1. __iter__() method is used to initialize the iterator object, which is called on the collection to create an iterator.\n",
    "It returns the iterator object itself.\n",
    "2. __next__() method is used to iterate over the collection, which returns the next element in the collection. \n",
    "When there are no more elements to iterate over, it raises the StopIteration exception."
   ]
  },
  {
   "cell_type": "code",
   "execution_count": 22,
   "id": "ed7f6d12-ea14-440d-baa4-8f42f1106a89",
   "metadata": {},
   "outputs": [
    {
     "name": "stdout",
     "output_type": "stream",
     "text": [
      "2\n",
      "4\n",
      "6\n",
      "8\n",
      "10\n"
     ]
    }
   ],
   "source": [
    "my_list = [2, 4, 6, 8, 10, 12, 14, 16, 18, 20]\n",
    "\n",
    "my_iterator = iter(my_list)\n",
    "\n",
    "for i in range(5):\n",
    "    element = next(my_iterator)\n",
    "    print(element)\n"
   ]
  },
  {
   "cell_type": "code",
   "execution_count": null,
   "id": "93b6c7a0-0659-4ae3-8ea2-600f3ce97d6e",
   "metadata": {},
   "outputs": [],
   "source": [
    "Q4. What is a generator function in python? Why yield keyword is used? Give an example of a generator\n",
    "function.\n",
    "Ans: A generator is a function that returns an iterator that produces a sequence of values when iterated over.\n",
    "Generators are useful when we want to produce a large sequence of values, but we don't want to store all of them in memory at once.\n",
    "The keyword \"yield\" is used in generator functions to indicate where the function should pause and yield control back to the calling code."
   ]
  },
  {
   "cell_type": "code",
   "execution_count": 29,
   "id": "9f741929-4c4a-4333-b199-918dcb2eaadc",
   "metadata": {},
   "outputs": [],
   "source": [
    "# Example of a generator function:\n",
    "def test_fib(n):\n",
    "    a,b = 0,1\n",
    "    for i in range(n):\n",
    "        yield a\n",
    "        a,b = b , a+b"
   ]
  },
  {
   "cell_type": "code",
   "execution_count": 31,
   "id": "d75c6cd7-42c1-4ba7-b834-acf93b74485c",
   "metadata": {},
   "outputs": [
    {
     "name": "stdout",
     "output_type": "stream",
     "text": [
      "0\n",
      "1\n",
      "1\n",
      "2\n",
      "3\n",
      "5\n",
      "8\n",
      "13\n",
      "21\n",
      "34\n"
     ]
    }
   ],
   "source": [
    "for i in test_fib(10):\n",
    "    print(i)"
   ]
  },
  {
   "cell_type": "code",
   "execution_count": null,
   "id": "cfb10af0-7b59-4c90-a9c0-35f88624bb57",
   "metadata": {},
   "outputs": [],
   "source": [
    "Q5.Create a generator function for prime numbers less than 1000. Use the next() method to print the\n",
    "first 20 prime numbers."
   ]
  },
  {
   "cell_type": "code",
   "execution_count": 32,
   "id": "21964bc3-1a73-4b7d-b308-b9be78c2f7c8",
   "metadata": {},
   "outputs": [],
   "source": [
    "def primes():\n",
    "    yield 2\n",
    "    primes_list = [2]\n",
    "    n = 3\n",
    "    while n < 1000:\n",
    "        is_prime = True\n",
    "        for p in primes_list:\n",
    "            if p*p > n:\n",
    "                break\n",
    "            if n % p == 0:\n",
    "                is_prime = False\n",
    "                break\n",
    "        if is_prime:\n",
    "            primes_list.append(n)\n",
    "            yield n\n",
    "        n += 2\n"
   ]
  },
  {
   "cell_type": "code",
   "execution_count": 33,
   "id": "2e541adf-5bc1-4420-a07b-341f009884aa",
   "metadata": {},
   "outputs": [
    {
     "name": "stdout",
     "output_type": "stream",
     "text": [
      "2\n",
      "3\n",
      "5\n",
      "7\n",
      "11\n",
      "13\n",
      "17\n",
      "19\n",
      "23\n",
      "29\n",
      "31\n",
      "37\n",
      "41\n",
      "43\n",
      "47\n",
      "53\n",
      "59\n",
      "61\n",
      "67\n",
      "71\n"
     ]
    }
   ],
   "source": [
    "prime_gen = primes()\n",
    "for i in range(20):\n",
    "    print(next(prime_gen))\n"
   ]
  },
  {
   "cell_type": "code",
   "execution_count": null,
   "id": "0b1c9075-5c9a-4077-bbfb-8fbb2654894c",
   "metadata": {},
   "outputs": [],
   "source": [
    "Q6. Write a python program to print the first 10 Fibonacci numbers using a while loop."
   ]
  },
  {
   "cell_type": "code",
   "execution_count": 35,
   "id": "5541687b-a184-4643-877b-ca78cf72ef5e",
   "metadata": {},
   "outputs": [
    {
     "name": "stdout",
     "output_type": "stream",
     "text": [
      "0\n",
      "1\n",
      "1\n",
      "2\n",
      "3\n",
      "5\n",
      "8\n",
      "13\n",
      "21\n",
      "34\n"
     ]
    }
   ],
   "source": [
    "count = 0\n",
    "a = 0\n",
    "b = 1\n",
    "\n",
    "while count < 10:\n",
    "    print(a)\n",
    "    a, b = b, a + b\n",
    "    count += 1\n"
   ]
  },
  {
   "cell_type": "code",
   "execution_count": null,
   "id": "03bbaf3b-4a3b-4b82-8f18-5e81d06cef1d",
   "metadata": {},
   "outputs": [],
   "source": [
    "Q7. Write a List Comprehension to iterate through the given string: ‘pwskills’.\n",
    "Expected output: ['p', 'w', 's', 'k', 'i', 'l', 'l', 's']\n",
    "Ans: Example of a List Comprehension in Python that iterates through the given string \"pwskills\" and extracts the characters \n",
    "'p', 'w', 's', 'k', 'i', 'l', 'l', and 's':"
   ]
  },
  {
   "cell_type": "code",
   "execution_count": 37,
   "id": "08329655-d7f4-43ad-a56a-d1ccbbd85ee2",
   "metadata": {},
   "outputs": [
    {
     "name": "stdout",
     "output_type": "stream",
     "text": [
      "['p', 'w', 's', 'k', 'i', 'l', 'l', 's']\n"
     ]
    }
   ],
   "source": [
    "string = 'pwskills'\n",
    "result = [char for char in string if char in 'pwskills']\n",
    "print(result)"
   ]
  },
  {
   "cell_type": "code",
   "execution_count": 36,
   "id": "5dc456fe-84ff-41f8-b707-95a0481dfedc",
   "metadata": {},
   "outputs": [
    {
     "name": "stdout",
     "output_type": "stream",
     "text": [
      "['p', 'w', 's', 'k', 'i', 'l', 'l', 's']\n"
     ]
    }
   ],
   "source": [
    "string = 'pwskills'\n",
    "result = [char for char in string]\n",
    "print(result)\n"
   ]
  },
  {
   "cell_type": "code",
   "execution_count": null,
   "id": "624ef8ab-f124-413e-a297-3b51c2431576",
   "metadata": {},
   "outputs": [],
   "source": [
    "Q8. Write a python program to check whether a given number is Palindrome or not using a while loop."
   ]
  },
  {
   "cell_type": "code",
   "execution_count": 38,
   "id": "a364c4a6-4470-4a22-a030-9f5750cb12d5",
   "metadata": {},
   "outputs": [
    {
     "name": "stdin",
     "output_type": "stream",
     "text": [
      "Enter any number: 55\n"
     ]
    },
    {
     "name": "stdout",
     "output_type": "stream",
     "text": [
      "The 55 number is palindrome!\n"
     ]
    }
   ],
   "source": [
    "num=int(input(\"Enter any number:\"))\n",
    "temp=num\n",
    "rev=0\n",
    "while(num>0):\n",
    "    dig=num%10\n",
    "    rev=rev*10+dig\n",
    "    num=num//10\n",
    "if(temp==rev):\n",
    "    print(\"The {0} number is palindrome!\".format(temp))\n",
    "else:\n",
    "    print(\"Not a palindrome!\")"
   ]
  },
  {
   "cell_type": "code",
   "execution_count": null,
   "id": "f9e60521-c0e0-46a9-bc8c-70826d160007",
   "metadata": {},
   "outputs": [],
   "source": [
    "Q9. Write a code to print odd numbers from 1 to 100 using list comprehension."
   ]
  },
  {
   "cell_type": "code",
   "execution_count": 39,
   "id": "5d6dd615-a42f-428f-8213-03d63b775144",
   "metadata": {},
   "outputs": [
    {
     "name": "stdout",
     "output_type": "stream",
     "text": [
      "[1, 3, 5, 7, 9, 11, 13, 15, 17, 19, 21, 23, 25, 27, 29, 31, 33, 35, 37, 39, 41, 43, 45, 47, 49, 51, 53, 55, 57, 59, 61, 63, 65, 67, 69, 71, 73, 75, 77, 79, 81, 83, 85, 87, 89, 91, 93, 95, 97, 99]\n"
     ]
    }
   ],
   "source": [
    "result = []\n",
    "for num in range(1, 101):\n",
    "    if num % 2 != 0:\n",
    "        result.append(num)\n",
    "print(result)\n"
   ]
  },
  {
   "cell_type": "code",
   "execution_count": null,
   "id": "22f77c29-536f-41f2-860d-81cc5ac5f7bb",
   "metadata": {},
   "outputs": [],
   "source": []
  }
 ],
 "metadata": {
  "kernelspec": {
   "display_name": "Python 3 (ipykernel)",
   "language": "python",
   "name": "python3"
  },
  "language_info": {
   "codemirror_mode": {
    "name": "ipython",
    "version": 3
   },
   "file_extension": ".py",
   "mimetype": "text/x-python",
   "name": "python",
   "nbconvert_exporter": "python",
   "pygments_lexer": "ipython3",
   "version": "3.10.8"
  }
 },
 "nbformat": 4,
 "nbformat_minor": 5
}
